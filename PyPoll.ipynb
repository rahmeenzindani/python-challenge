{
 "cells": [
  {
   "cell_type": "code",
   "execution_count": null,
   "metadata": {},
   "outputs": [],
   "source": [
    "import csv\n",
    "from collections import defaultdict\n",
    "\n",
    "def analyze_election_data(file_path):\n",
    "    with open(file_path, 'r') as file:\n",
    "        reader = csv.DictReader(file)\n",
    "        votes = defaultdict(int)\n",
    "        total_votes = 0\n",
    "        for row in reader:\n",
    "            candidate = row['Candidate']\n",
    "            votes[candidate] += 1\n",
    "            total_votes += 1\n",
    "\n",
    "    results = (\n",
    "        f\"Election Results\\n\"\n",
    "        f\"-------------------------\\n\"\n",
    "        f\"Total Votes: {total_votes}\\n\"\n",
    "        f\"-------------------------\\n\"\n",
    "    )\n",
    "\n",
    "    winner = max(votes, key=votes.get)\n",
    "    \n",
    "    for candidate, count in votes.items():\n",
    "        percentage = (count / total_votes) * 100\n",
    "        results += f\"{candidate}: {percentage:.3f}% ({count})\\n\"\n",
    "\n",
    "    results += (\n",
    "        f\"-------------------------\\n\"\n",
    "        f\"Winner: {winner}\\n\"\n",
    "        f\"-------------------------\\n\"\n",
    "    )\n",
    "\n",
    "    with open('analysis/pypoll_results.txt', 'w') as txt_file:\n",
    "        txt_file.write(results)\n",
    "    \n",
    "    print(results)\n",
    "\n",
    "if __name__ == \"__main__\":\n",
    "    analyze_election_data('Resources/election_data.csv')\n"
   ]
  }
 ],
 "metadata": {
  "language_info": {
   "name": "python"
  }
 },
 "nbformat": 4,
 "nbformat_minor": 2
}
