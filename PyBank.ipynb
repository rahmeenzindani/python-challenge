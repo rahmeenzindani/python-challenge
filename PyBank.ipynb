{
 "cells": [
  {
   "cell_type": "code",
   "execution_count": null,
   "metadata": {},
   "outputs": [],
   "source": [
    "import csv\n",
    "\n",
    "def analyze_financial_data(file_path):\n",
    "    with open(file_path, 'r') as file:\n",
    "        reader = csv.DictReader(file)\n",
    "        dates = []\n",
    "        profits_losses = []\n",
    "        for row in reader:\n",
    "            dates.append(row['Date'])\n",
    "            profits_losses.append(int(row['Profit/Losses']))\n",
    "\n",
    "    total_months = len(dates)\n",
    "    net_total = sum(profits_losses)\n",
    "    \n",
    "    changes = [profits_losses[i] - profits_losses[i - 1] for i in range(1, total_months)]\n",
    "    avg_change = sum(changes) / len(changes)\n",
    "    \n",
    "    greatest_increase = max(changes)\n",
    "    greatest_decrease = min(changes)\n",
    "    \n",
    "    increase_index = changes.index(greatest_increase) + 1\n",
    "    decrease_index = changes.index(greatest_decrease) + 1\n",
    "    \n",
    "    greatest_increase_date = dates[increase_index]\n",
    "    greatest_decrease_date = dates[decrease_index]\n",
    "    \n",
    "    results = (\n",
    "        f\"Financial Analysis\\n\"\n",
    "        f\"----------------------------\\n\"\n",
    "        f\"Total Months: {total_months}\\n\"\n",
    "        f\"Total: ${net_total}\\n\"\n",
    "        f\"Average Change: ${avg_change:.2f}\\n\"\n",
    "        f\"Greatest Increase in Profits: {greatest_increase_date} (${greatest_increase})\\n\"\n",
    "        f\"Greatest Decrease in Profits: {greatest_decrease_date} (${greatest_decrease})\\n\"\n",
    "    )\n",
    "    \n",
    "    with open('analysis/pybank_results.txt', 'w') as txt_file:\n",
    "        txt_file.write(results)\n",
    "    \n",
    "    print(results)\n",
    "\n",
    "if __name__ == \"__main__\":\n",
    "    analyze_financial_data('Resources/budget_data.csv')\n",
    "\n",
    "\n"
   ]
  }
 ],
 "metadata": {
  "language_info": {
   "name": "python"
  }
 },
 "nbformat": 4,
 "nbformat_minor": 2
}
